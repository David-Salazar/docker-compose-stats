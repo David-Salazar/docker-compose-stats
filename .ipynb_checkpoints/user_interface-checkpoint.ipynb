{
 "cells": [
  {
   "cell_type": "code",
   "execution_count": 1,
   "metadata": {
    "extensions": {
     "jupyter_dashboards": {
      "activeView": "grid_default",
      "views": {
       "grid_default": {
        "col": null,
        "height": 2,
        "hidden": true,
        "row": null,
        "width": 2
       }
      }
     }
    }
   },
   "outputs": [],
   "source": [
    "import asyncio\n",
    "from functions import *\n",
    "import time\n",
    "import ipywidgets as widgets\n",
    "from ipywidgets import interactive\n",
    "import matplotlib.ticker as mtick\n",
    "from datetime import datetime"
   ]
  },
  {
   "cell_type": "code",
   "execution_count": 2,
   "metadata": {
    "extensions": {
     "jupyter_dashboards": {
      "activeView": "grid_default",
      "views": {
       "grid_default": {
        "col": null,
        "height": 2,
        "hidden": true,
        "row": null,
        "width": 2
       }
      }
     }
    }
   },
   "outputs": [],
   "source": [
    "%matplotlib widget\n",
    "import matplotlib.pyplot as plt  \n",
    "import ipympl\n",
    "import seaborn as sns\n",
    "\n",
    "plt.rcParams['axes.edgecolor']='#333F4B'\n",
    "plt.rcParams['axes.linewidth']=0.8\n",
    "plt.rcParams['xtick.color']='#333F4B'\n",
    "plt.rcParams['ytick.color']='#333F4B'\n",
    "\n",
    "plt.rcParams['font.family'] = 'DejaVu Sans'\n",
    "plt.rcParams['font.sans-serif'] = 'DejaVu Sans'\n",
    "\n",
    "plt.rcParams.update({'axes.spines.top': False, 'axes.spines.right': False})\n",
    "sns.set_palette(\"Set2\")"
   ]
  },
  {
   "cell_type": "markdown",
   "metadata": {
    "extensions": {
     "jupyter_dashboards": {
      "activeView": "grid_default",
      "views": {
       "grid_default": {
        "col": 0,
        "height": 6,
        "hidden": false,
        "row": 5,
        "width": 12
       }
      }
     }
    }
   },
   "source": [
    "# Docker: getting into the belly of the beast\n",
    "\n",
    "Docker has become a staple tool of software engineering. However, it is also resource intensive. This project is a thin wrapper around the command `docker stats`: it aims at summarizing docker's usage metrics of the host's resources.\n",
    "\n",
    "It does so in real time by plotting intuitive graphs to look into the CPU/Memory usage and IO metrics. Ideally, one can filter all of the plots by the name of the docker compose project or - more generally - any string within the name of any of the containers. \n",
    "\n",
    "## Initial Static Summary\n",
    "\n",
    "Here's the first global look to the project in table form. "
   ]
  },
  {
   "cell_type": "code",
   "execution_count": 9,
   "metadata": {
    "extensions": {
     "jupyter_dashboards": {
      "activeView": "grid_default",
      "views": {
       "grid_default": {
        "col": 0,
        "height": 4,
        "hidden": false,
        "row": 11,
        "width": 12
       }
      }
     }
    }
   },
   "outputs": [
    {
     "data": {
      "application/vnd.jupyter.widget-view+json": {
       "model_id": "49846f2400f541d4b2113e61cb26b176",
       "version_major": 2,
       "version_minor": 0
      },
      "text/plain": [
       "interactive(children=(Text(value='all', description='Docker-compose project name', placeholder='all'), Output(…"
      ]
     },
     "metadata": {},
     "output_type": "display_data"
    }
   ],
   "source": [
    "def table_summary(docker_project: str): \n",
    "    docker_stats = run_and_get_docker_stats()\n",
    "    docker_pandas_stats = read_pandas_dataframe(docker_stats, docker_project=docker_project)\n",
    "    \n",
    "    if docker_project != \"all\":\n",
    "        docker_pandas_stats = docker_pandas_stats[docker_pandas_stats['name'].str.contains(docker_project)]\n",
    "\n",
    "    styled_df = (docker_pandas_stats.\n",
    "    style.\n",
    "    format({'memory_percentage': '{:.2%}',\n",
    "           'cpu_percentange': '{:.2%}'}).\n",
    "    hide_index().\n",
    "    bar(color='#FFA07A', vmin=0, subset=['memory_percentage', 'cpu_percentange'], align='zero', vmax=1))\n",
    "    return styled_df\n",
    "docker_project = widgets.Text(\n",
    "    value='all',\n",
    "    placeholder='all',\n",
    "    description='Docker-compose project name')\n",
    "widgets.interact(table_summary, docker_project=docker_project);"
   ]
  },
  {
   "cell_type": "code",
   "execution_count": 11,
   "metadata": {
    "extensions": {
     "jupyter_dashboards": {
      "activeView": "grid_default",
      "views": {
       "grid_default": {
        "col": 0,
        "height": 14,
        "hidden": false,
        "row": 15,
        "width": 12
       }
      }
     }
    }
   },
   "outputs": [
    {
     "data": {
      "application/vnd.jupyter.widget-view+json": {
       "model_id": "8b7e83ffe7204f8a8724aa2194cb73e9",
       "version_major": 2,
       "version_minor": 0
      },
      "text/plain": [
       "interactive(children=(Text(value='all', description='Docker-compose project name', placeholder='all'), Output(…"
      ]
     },
     "metadata": {},
     "output_type": "display_data"
    }
   ],
   "source": [
    "def plot_mem_usage(docker_project):\n",
    "    SLEEP = 0.5\n",
    "\n",
    "    all_tasks = asyncio.all_tasks()\n",
    "    for task in all_tasks:\n",
    "        task.cancel()\n",
    "\n",
    "    fig1, ax = plt.subplots()\n",
    "    fig1.suptitle(\"Docker Stats data\", fontsize=20)\n",
    "\n",
    "    docker_stats = run_and_get_docker_stats()\n",
    "    docker_pandas_stats = read_pandas_dataframe(docker_stats, docker_project)\n",
    "    \n",
    "    if docker_project != \"all\":\n",
    "        docker_pandas_stats = docker_pandas_stats[docker_pandas_stats['name'].str.contains(docker_project)]\n",
    "    \n",
    "    docker_pandas_stats.plot.barh(y=['memory_percentage', 'cpu_percentange'], x = 'name',\n",
    "                                         ax = ax)\n",
    "    ax.set_title(\"Time last updated \" + str(datetime.now()))\n",
    "    ax.xaxis.set_major_formatter(mtick.PercentFormatter(xmax=1))\n",
    "    ax.set_xlim([0, 1])\n",
    "    plt.show(fig1)\n",
    "    ax.cla()\n",
    "    async def do():\n",
    "        while True:\n",
    "            docker_stats = run_and_get_docker_stats()\n",
    "            docker_pandas_stats = read_pandas_dataframe(docker_stats, docker_project)\n",
    "            \n",
    "            if docker_project != \"all\":\n",
    "                docker_pandas_stats = docker_pandas_stats[docker_pandas_stats['name'].str.contains(docker_project)]\n",
    "            \n",
    "            ax.cla()\n",
    "            docker_pandas_stats.plot.barh(y=['memory_percentage', 'cpu_percentange'], x = 'name',\n",
    "                                         ax = ax)\n",
    "            ax.xaxis.set_major_formatter(mtick.PercentFormatter(xmax=1))\n",
    "            ax.set_xlim([0, 1])\n",
    "            ax.set_title(\"Time last updated \" + str(datetime.now()))    \n",
    "            plt.draw()\n",
    "            await asyncio.sleep(SLEEP)\n",
    "\n",
    "\n",
    "    asyncio.create_task(do());\n",
    "docker = widgets.Text(\n",
    "    value='all',\n",
    "    placeholder='all',\n",
    "    description='Docker-compose project name')\n",
    "plot = interactive(plot_mem_usage, docker_project=docker);\n",
    "display(plot);"
   ]
  },
  {
   "cell_type": "code",
   "execution_count": 12,
   "metadata": {
    "extensions": {
     "jupyter_dashboards": {
      "activeView": "grid_default",
      "views": {
       "grid_default": {
        "col": null,
        "height": 2,
        "hidden": true,
        "row": null,
        "width": 2
       }
      }
     }
    }
   },
   "outputs": [],
   "source": [
    "l = widgets.link((docker, 'value'), (docker_project, 'value'))"
   ]
  },
  {
   "cell_type": "code",
   "execution_count": null,
   "metadata": {
    "extensions": {
     "jupyter_dashboards": {
      "activeView": "grid_default",
      "views": {
       "grid_default": {
        "col": null,
        "height": 2,
        "hidden": true,
        "row": null,
        "width": 2
       }
      }
     }
    }
   },
   "outputs": [],
   "source": []
  }
 ],
 "metadata": {
  "extensions": {
   "jupyter_dashboards": {
    "activeView": "grid_default",
    "version": 1,
    "views": {
     "grid_default": {
      "cellMargin": 10,
      "defaultCellHeight": 60,
      "maxColumns": 12,
      "name": "grid",
      "type": "grid"
     }
    }
   }
  },
  "kernelspec": {
   "display_name": "Python 3",
   "language": "python",
   "name": "python3"
  },
  "language_info": {
   "codemirror_mode": {
    "name": "ipython",
    "version": 3
   },
   "file_extension": ".py",
   "mimetype": "text/x-python",
   "name": "python",
   "nbconvert_exporter": "python",
   "pygments_lexer": "ipython3",
   "version": "3.8.5"
  }
 },
 "nbformat": 4,
 "nbformat_minor": 4
}
